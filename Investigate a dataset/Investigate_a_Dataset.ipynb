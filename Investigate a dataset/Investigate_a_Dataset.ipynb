{
 "cells": [
  {
   "cell_type": "markdown",
   "metadata": {},
   "source": [
    "# Project: Analysis of World Bank Development Indicators\n",
    "\n",
    "## Table of Contents\n",
    "<ul>\n",
    "<li><a href=\"#intro\">Introduction</a></li>\n",
    "<li><a href=\"#wrangling\">Data Wrangling</a></li>\n",
    "<li><a href=\"#eda\">Exploratory Data Analysis</a></li>\n",
    "<li><a href=\"#conclusions\">Conclusions</a></li>\n",
    "</ul>"
   ]
  },
  {
   "cell_type": "markdown",
   "metadata": {},
   "source": [
    "<a id='intro'></a>\n",
    "## Introduction\n",
    "\n",
    "In this project we will explore the gapminder data which holds a lot of World Bank Development Indicators. We will particularly focus on\n",
    "<ul>\n",
    "<li>Number of people living in poverty,</li>\n",
    "<li>literacy rate,</li>\n",
    "<li>Income per capita (gdp),</li>\n",
    "<li>and unemplyment rate.</li></ul>\n",
    "\n",
    ">By the end of this project, we would have found tentative answers to the following questions:\n",
    "\n",
    "<ul>\n",
    "<li>Is there a correlation between Number of people living in poverty, literacy rate, GDP, and unemployment?</li>\n",
    "<li>Test for the significance of correlation?\n",
    "</ul>\n",
    "    My assumption is that countries with fewer number of citizens living in poverty, high literacy rate, and lower rate of unemployment should have a high GDP, and vice versa.\n",
    "\n",
    "Let's now import the packages that we will be needing thoughout this project."
   ]
  },
  {
   "cell_type": "code",
   "execution_count": 2,
   "metadata": {},
   "outputs": [],
   "source": [
    "# import numpy, pandas, glob, matplotlib, and seaborn\n",
    "import numpy as np\n",
    "import pandas as pd\n",
    "from glob import glob\n",
    "import seaborn as sns\n",
    "import matplotlib.pyplot as plt\n",
    "% matplotlib inline"
   ]
  },
  {
   "cell_type": "markdown",
   "metadata": {},
   "source": [
    "<a id='wrangling'></a>\n",
    "## Data Wrangling\n",
    "\n",
    "> The next step would now be to load and explore the datasets that we will use for our analysis. Since we will be working with four different csv files, I find it more pythonic to glob all files using the glob module, rather than doing the tedious work of wrting out the file names. You will find the documentation to this module <a href='https://docs.python.org/3/library/glob.html'>here</a>, and can download the csv files from <a href='https://www.gapminder.org/data/'>here</a>.\n",
    "\n",
    "### General Properties"
   ]
  },
  {
   "cell_type": "code",
   "execution_count": 3,
   "metadata": {},
   "outputs": [
    {
     "data": {
      "text/plain": [
       "['aged_15plus_unemployment_rate_percent.csv',\n",
       " 'income_per_person_gdppercapita_ppp_inflation_adjusted.csv',\n",
       " 'literacy_rate_adult_total_percent_of_people_ages_15_and_above.csv',\n",
       " 'number_of_people_in_poverty.csv']"
      ]
     },
     "execution_count": 3,
     "metadata": {},
     "output_type": "execute_result"
    }
   ],
   "source": [
    "data_files = glob('*.csv')\n",
    "data_files"
   ]
  },
  {
   "cell_type": "markdown",
   "metadata": {},
   "source": [
    ">We now have a list of all our csv files as data_files. We will use index slicing to select each file."
   ]
  },
  {
   "cell_type": "code",
   "execution_count": 4,
   "metadata": {},
   "outputs": [],
   "source": [
    "# unemployment rate\n",
    "unemployment_rate = pd.read_csv(data_files[0])\n",
    "\n",
    "# gdp per capital\n",
    "gdp = pd.read_csv(data_files[1])\n",
    "\n",
    "# adult literacy rate\n",
    "literacy_rate = pd.read_csv(data_files[2])\n",
    "\n",
    "# number of people in poverty\n",
    "poverty_rate = pd.read_csv(data_files[3])"
   ]
  },
  {
   "cell_type": "code",
   "execution_count": 5,
   "metadata": {},
   "outputs": [
    {
     "data": {
      "text/html": [
       "<div>\n",
       "<style scoped>\n",
       "    .dataframe tbody tr th:only-of-type {\n",
       "        vertical-align: middle;\n",
       "    }\n",
       "\n",
       "    .dataframe tbody tr th {\n",
       "        vertical-align: top;\n",
       "    }\n",
       "\n",
       "    .dataframe thead th {\n",
       "        text-align: right;\n",
       "    }\n",
       "</style>\n",
       "<table border=\"1\" class=\"dataframe\">\n",
       "  <thead>\n",
       "    <tr style=\"text-align: right;\">\n",
       "      <th></th>\n",
       "      <th>geo</th>\n",
       "      <th>1947</th>\n",
       "      <th>1948</th>\n",
       "      <th>1949</th>\n",
       "      <th>1950</th>\n",
       "      <th>1951</th>\n",
       "      <th>1952</th>\n",
       "      <th>1953</th>\n",
       "      <th>1954</th>\n",
       "      <th>1955</th>\n",
       "      <th>...</th>\n",
       "      <th>2008</th>\n",
       "      <th>2009</th>\n",
       "      <th>2010</th>\n",
       "      <th>2011</th>\n",
       "      <th>2012</th>\n",
       "      <th>2013</th>\n",
       "      <th>2014</th>\n",
       "      <th>2015</th>\n",
       "      <th>2016</th>\n",
       "      <th>2017</th>\n",
       "    </tr>\n",
       "  </thead>\n",
       "  <tbody>\n",
       "    <tr>\n",
       "      <th>0</th>\n",
       "      <td>Afghanistan</td>\n",
       "      <td>NaN</td>\n",
       "      <td>NaN</td>\n",
       "      <td>NaN</td>\n",
       "      <td>NaN</td>\n",
       "      <td>NaN</td>\n",
       "      <td>NaN</td>\n",
       "      <td>NaN</td>\n",
       "      <td>NaN</td>\n",
       "      <td>NaN</td>\n",
       "      <td>...</td>\n",
       "      <td>2.49</td>\n",
       "      <td>NaN</td>\n",
       "      <td>NaN</td>\n",
       "      <td>NaN</td>\n",
       "      <td>1.69</td>\n",
       "      <td>NaN</td>\n",
       "      <td>NaN</td>\n",
       "      <td>NaN</td>\n",
       "      <td>NaN</td>\n",
       "      <td>NaN</td>\n",
       "    </tr>\n",
       "    <tr>\n",
       "      <th>1</th>\n",
       "      <td>Albania</td>\n",
       "      <td>NaN</td>\n",
       "      <td>NaN</td>\n",
       "      <td>NaN</td>\n",
       "      <td>NaN</td>\n",
       "      <td>NaN</td>\n",
       "      <td>NaN</td>\n",
       "      <td>NaN</td>\n",
       "      <td>NaN</td>\n",
       "      <td>NaN</td>\n",
       "      <td>...</td>\n",
       "      <td>13.10</td>\n",
       "      <td>13.7</td>\n",
       "      <td>14.10</td>\n",
       "      <td>13.50</td>\n",
       "      <td>13.40</td>\n",
       "      <td>15.90</td>\n",
       "      <td>17.5</td>\n",
       "      <td>17.1</td>\n",
       "      <td>15.2</td>\n",
       "      <td>13.7</td>\n",
       "    </tr>\n",
       "    <tr>\n",
       "      <th>2</th>\n",
       "      <td>Algeria</td>\n",
       "      <td>NaN</td>\n",
       "      <td>NaN</td>\n",
       "      <td>NaN</td>\n",
       "      <td>NaN</td>\n",
       "      <td>NaN</td>\n",
       "      <td>NaN</td>\n",
       "      <td>NaN</td>\n",
       "      <td>NaN</td>\n",
       "      <td>NaN</td>\n",
       "      <td>...</td>\n",
       "      <td>11.30</td>\n",
       "      <td>10.2</td>\n",
       "      <td>9.96</td>\n",
       "      <td>9.96</td>\n",
       "      <td>11.00</td>\n",
       "      <td>9.82</td>\n",
       "      <td>10.2</td>\n",
       "      <td>11.2</td>\n",
       "      <td>10.2</td>\n",
       "      <td>12.0</td>\n",
       "    </tr>\n",
       "    <tr>\n",
       "      <th>3</th>\n",
       "      <td>Angola</td>\n",
       "      <td>NaN</td>\n",
       "      <td>NaN</td>\n",
       "      <td>NaN</td>\n",
       "      <td>NaN</td>\n",
       "      <td>NaN</td>\n",
       "      <td>NaN</td>\n",
       "      <td>NaN</td>\n",
       "      <td>NaN</td>\n",
       "      <td>NaN</td>\n",
       "      <td>...</td>\n",
       "      <td>NaN</td>\n",
       "      <td>NaN</td>\n",
       "      <td>NaN</td>\n",
       "      <td>7.36</td>\n",
       "      <td>NaN</td>\n",
       "      <td>NaN</td>\n",
       "      <td>NaN</td>\n",
       "      <td>NaN</td>\n",
       "      <td>NaN</td>\n",
       "      <td>NaN</td>\n",
       "    </tr>\n",
       "    <tr>\n",
       "      <th>4</th>\n",
       "      <td>Antigua and Barbuda</td>\n",
       "      <td>NaN</td>\n",
       "      <td>NaN</td>\n",
       "      <td>NaN</td>\n",
       "      <td>NaN</td>\n",
       "      <td>NaN</td>\n",
       "      <td>NaN</td>\n",
       "      <td>NaN</td>\n",
       "      <td>NaN</td>\n",
       "      <td>NaN</td>\n",
       "      <td>...</td>\n",
       "      <td>NaN</td>\n",
       "      <td>NaN</td>\n",
       "      <td>NaN</td>\n",
       "      <td>NaN</td>\n",
       "      <td>NaN</td>\n",
       "      <td>NaN</td>\n",
       "      <td>NaN</td>\n",
       "      <td>NaN</td>\n",
       "      <td>NaN</td>\n",
       "      <td>NaN</td>\n",
       "    </tr>\n",
       "  </tbody>\n",
       "</table>\n",
       "<p>5 rows × 72 columns</p>\n",
       "</div>"
      ],
      "text/plain": [
       "                   geo  1947  1948  1949  1950  1951  1952  1953  1954  1955  \\\n",
       "0          Afghanistan   NaN   NaN   NaN   NaN   NaN   NaN   NaN   NaN   NaN   \n",
       "1              Albania   NaN   NaN   NaN   NaN   NaN   NaN   NaN   NaN   NaN   \n",
       "2              Algeria   NaN   NaN   NaN   NaN   NaN   NaN   NaN   NaN   NaN   \n",
       "3               Angola   NaN   NaN   NaN   NaN   NaN   NaN   NaN   NaN   NaN   \n",
       "4  Antigua and Barbuda   NaN   NaN   NaN   NaN   NaN   NaN   NaN   NaN   NaN   \n",
       "\n",
       "   ...    2008  2009   2010   2011   2012   2013  2014  2015  2016  2017  \n",
       "0  ...    2.49   NaN    NaN    NaN   1.69    NaN   NaN   NaN   NaN   NaN  \n",
       "1  ...   13.10  13.7  14.10  13.50  13.40  15.90  17.5  17.1  15.2  13.7  \n",
       "2  ...   11.30  10.2   9.96   9.96  11.00   9.82  10.2  11.2  10.2  12.0  \n",
       "3  ...     NaN   NaN    NaN   7.36    NaN    NaN   NaN   NaN   NaN   NaN  \n",
       "4  ...     NaN   NaN    NaN    NaN    NaN    NaN   NaN   NaN   NaN   NaN  \n",
       "\n",
       "[5 rows x 72 columns]"
      ]
     },
     "execution_count": 5,
     "metadata": {},
     "output_type": "execute_result"
    }
   ],
   "source": [
    "# head\n",
    "unemployment_rate.head()"
   ]
  },
  {
   "cell_type": "code",
   "execution_count": 6,
   "metadata": {},
   "outputs": [
    {
     "data": {
      "text/html": [
       "<div>\n",
       "<style scoped>\n",
       "    .dataframe tbody tr th:only-of-type {\n",
       "        vertical-align: middle;\n",
       "    }\n",
       "\n",
       "    .dataframe tbody tr th {\n",
       "        vertical-align: top;\n",
       "    }\n",
       "\n",
       "    .dataframe thead th {\n",
       "        text-align: right;\n",
       "    }\n",
       "</style>\n",
       "<table border=\"1\" class=\"dataframe\">\n",
       "  <thead>\n",
       "    <tr style=\"text-align: right;\">\n",
       "      <th></th>\n",
       "      <th>geo</th>\n",
       "      <th>1800</th>\n",
       "      <th>1801</th>\n",
       "      <th>1802</th>\n",
       "      <th>1803</th>\n",
       "      <th>1804</th>\n",
       "      <th>1805</th>\n",
       "      <th>1806</th>\n",
       "      <th>1807</th>\n",
       "      <th>1808</th>\n",
       "      <th>...</th>\n",
       "      <th>2009</th>\n",
       "      <th>2010</th>\n",
       "      <th>2011</th>\n",
       "      <th>2012</th>\n",
       "      <th>2013</th>\n",
       "      <th>2014</th>\n",
       "      <th>2015</th>\n",
       "      <th>2016</th>\n",
       "      <th>2017</th>\n",
       "      <th>2018</th>\n",
       "    </tr>\n",
       "  </thead>\n",
       "  <tbody>\n",
       "    <tr>\n",
       "      <th>0</th>\n",
       "      <td>Afghanistan</td>\n",
       "      <td>603</td>\n",
       "      <td>603</td>\n",
       "      <td>603</td>\n",
       "      <td>603</td>\n",
       "      <td>603</td>\n",
       "      <td>603</td>\n",
       "      <td>603</td>\n",
       "      <td>603</td>\n",
       "      <td>603</td>\n",
       "      <td>...</td>\n",
       "      <td>1530</td>\n",
       "      <td>1610</td>\n",
       "      <td>1660</td>\n",
       "      <td>1840</td>\n",
       "      <td>1810</td>\n",
       "      <td>1780</td>\n",
       "      <td>1750</td>\n",
       "      <td>1740</td>\n",
       "      <td>1800</td>\n",
       "      <td>1870</td>\n",
       "    </tr>\n",
       "    <tr>\n",
       "      <th>1</th>\n",
       "      <td>Albania</td>\n",
       "      <td>667</td>\n",
       "      <td>667</td>\n",
       "      <td>667</td>\n",
       "      <td>667</td>\n",
       "      <td>667</td>\n",
       "      <td>668</td>\n",
       "      <td>668</td>\n",
       "      <td>668</td>\n",
       "      <td>668</td>\n",
       "      <td>...</td>\n",
       "      <td>9520</td>\n",
       "      <td>9930</td>\n",
       "      <td>10200</td>\n",
       "      <td>10400</td>\n",
       "      <td>10500</td>\n",
       "      <td>10700</td>\n",
       "      <td>11000</td>\n",
       "      <td>11400</td>\n",
       "      <td>11900</td>\n",
       "      <td>12400</td>\n",
       "    </tr>\n",
       "    <tr>\n",
       "      <th>2</th>\n",
       "      <td>Algeria</td>\n",
       "      <td>715</td>\n",
       "      <td>716</td>\n",
       "      <td>717</td>\n",
       "      <td>718</td>\n",
       "      <td>719</td>\n",
       "      <td>720</td>\n",
       "      <td>721</td>\n",
       "      <td>722</td>\n",
       "      <td>723</td>\n",
       "      <td>...</td>\n",
       "      <td>12600</td>\n",
       "      <td>12900</td>\n",
       "      <td>13000</td>\n",
       "      <td>13200</td>\n",
       "      <td>13300</td>\n",
       "      <td>13500</td>\n",
       "      <td>13700</td>\n",
       "      <td>14000</td>\n",
       "      <td>13800</td>\n",
       "      <td>13700</td>\n",
       "    </tr>\n",
       "    <tr>\n",
       "      <th>3</th>\n",
       "      <td>Andorra</td>\n",
       "      <td>1200</td>\n",
       "      <td>1200</td>\n",
       "      <td>1200</td>\n",
       "      <td>1200</td>\n",
       "      <td>1210</td>\n",
       "      <td>1210</td>\n",
       "      <td>1210</td>\n",
       "      <td>1210</td>\n",
       "      <td>1220</td>\n",
       "      <td>...</td>\n",
       "      <td>41700</td>\n",
       "      <td>39000</td>\n",
       "      <td>42000</td>\n",
       "      <td>41900</td>\n",
       "      <td>43700</td>\n",
       "      <td>44900</td>\n",
       "      <td>46600</td>\n",
       "      <td>48200</td>\n",
       "      <td>49800</td>\n",
       "      <td>51500</td>\n",
       "    </tr>\n",
       "    <tr>\n",
       "      <th>4</th>\n",
       "      <td>Angola</td>\n",
       "      <td>618</td>\n",
       "      <td>620</td>\n",
       "      <td>623</td>\n",
       "      <td>626</td>\n",
       "      <td>628</td>\n",
       "      <td>631</td>\n",
       "      <td>634</td>\n",
       "      <td>637</td>\n",
       "      <td>640</td>\n",
       "      <td>...</td>\n",
       "      <td>5910</td>\n",
       "      <td>5900</td>\n",
       "      <td>5910</td>\n",
       "      <td>6000</td>\n",
       "      <td>6180</td>\n",
       "      <td>6260</td>\n",
       "      <td>6230</td>\n",
       "      <td>6020</td>\n",
       "      <td>5940</td>\n",
       "      <td>5850</td>\n",
       "    </tr>\n",
       "  </tbody>\n",
       "</table>\n",
       "<p>5 rows × 220 columns</p>\n",
       "</div>"
      ],
      "text/plain": [
       "           geo  1800  1801  1802  1803  1804  1805  1806  1807  1808  ...    \\\n",
       "0  Afghanistan   603   603   603   603   603   603   603   603   603  ...     \n",
       "1      Albania   667   667   667   667   667   668   668   668   668  ...     \n",
       "2      Algeria   715   716   717   718   719   720   721   722   723  ...     \n",
       "3      Andorra  1200  1200  1200  1200  1210  1210  1210  1210  1220  ...     \n",
       "4       Angola   618   620   623   626   628   631   634   637   640  ...     \n",
       "\n",
       "    2009   2010   2011   2012   2013   2014   2015   2016   2017   2018  \n",
       "0   1530   1610   1660   1840   1810   1780   1750   1740   1800   1870  \n",
       "1   9520   9930  10200  10400  10500  10700  11000  11400  11900  12400  \n",
       "2  12600  12900  13000  13200  13300  13500  13700  14000  13800  13700  \n",
       "3  41700  39000  42000  41900  43700  44900  46600  48200  49800  51500  \n",
       "4   5910   5900   5910   6000   6180   6260   6230   6020   5940   5850  \n",
       "\n",
       "[5 rows x 220 columns]"
      ]
     },
     "execution_count": 6,
     "metadata": {},
     "output_type": "execute_result"
    }
   ],
   "source": [
    "# head\n",
    "gdp.head()"
   ]
  },
  {
   "cell_type": "code",
   "execution_count": 7,
   "metadata": {},
   "outputs": [
    {
     "data": {
      "text/html": [
       "<div>\n",
       "<style scoped>\n",
       "    .dataframe tbody tr th:only-of-type {\n",
       "        vertical-align: middle;\n",
       "    }\n",
       "\n",
       "    .dataframe tbody tr th {\n",
       "        vertical-align: top;\n",
       "    }\n",
       "\n",
       "    .dataframe thead th {\n",
       "        text-align: right;\n",
       "    }\n",
       "</style>\n",
       "<table border=\"1\" class=\"dataframe\">\n",
       "  <thead>\n",
       "    <tr style=\"text-align: right;\">\n",
       "      <th></th>\n",
       "      <th>geo</th>\n",
       "      <th>1975</th>\n",
       "      <th>1976</th>\n",
       "      <th>1977</th>\n",
       "      <th>1978</th>\n",
       "      <th>1979</th>\n",
       "      <th>1980</th>\n",
       "      <th>1981</th>\n",
       "      <th>1982</th>\n",
       "      <th>1983</th>\n",
       "      <th>...</th>\n",
       "      <th>2002</th>\n",
       "      <th>2003</th>\n",
       "      <th>2004</th>\n",
       "      <th>2005</th>\n",
       "      <th>2006</th>\n",
       "      <th>2007</th>\n",
       "      <th>2008</th>\n",
       "      <th>2009</th>\n",
       "      <th>2010</th>\n",
       "      <th>2011</th>\n",
       "    </tr>\n",
       "  </thead>\n",
       "  <tbody>\n",
       "    <tr>\n",
       "      <th>131</th>\n",
       "      <td>Thailand</td>\n",
       "      <td>NaN</td>\n",
       "      <td>NaN</td>\n",
       "      <td>NaN</td>\n",
       "      <td>NaN</td>\n",
       "      <td>NaN</td>\n",
       "      <td>88.0</td>\n",
       "      <td>NaN</td>\n",
       "      <td>NaN</td>\n",
       "      <td>NaN</td>\n",
       "      <td>...</td>\n",
       "      <td>NaN</td>\n",
       "      <td>NaN</td>\n",
       "      <td>NaN</td>\n",
       "      <td>93.5</td>\n",
       "      <td>NaN</td>\n",
       "      <td>NaN</td>\n",
       "      <td>NaN</td>\n",
       "      <td>NaN</td>\n",
       "      <td>NaN</td>\n",
       "      <td>NaN</td>\n",
       "    </tr>\n",
       "    <tr>\n",
       "      <th>114</th>\n",
       "      <td>Sao Tome and Principe</td>\n",
       "      <td>NaN</td>\n",
       "      <td>NaN</td>\n",
       "      <td>NaN</td>\n",
       "      <td>NaN</td>\n",
       "      <td>NaN</td>\n",
       "      <td>NaN</td>\n",
       "      <td>57.3</td>\n",
       "      <td>NaN</td>\n",
       "      <td>NaN</td>\n",
       "      <td>...</td>\n",
       "      <td>NaN</td>\n",
       "      <td>NaN</td>\n",
       "      <td>NaN</td>\n",
       "      <td>NaN</td>\n",
       "      <td>NaN</td>\n",
       "      <td>NaN</td>\n",
       "      <td>69.5</td>\n",
       "      <td>NaN</td>\n",
       "      <td>NaN</td>\n",
       "      <td>NaN</td>\n",
       "    </tr>\n",
       "    <tr>\n",
       "      <th>119</th>\n",
       "      <td>Sierra Leone</td>\n",
       "      <td>NaN</td>\n",
       "      <td>NaN</td>\n",
       "      <td>NaN</td>\n",
       "      <td>NaN</td>\n",
       "      <td>NaN</td>\n",
       "      <td>NaN</td>\n",
       "      <td>NaN</td>\n",
       "      <td>NaN</td>\n",
       "      <td>NaN</td>\n",
       "      <td>...</td>\n",
       "      <td>NaN</td>\n",
       "      <td>NaN</td>\n",
       "      <td>34.8</td>\n",
       "      <td>NaN</td>\n",
       "      <td>NaN</td>\n",
       "      <td>NaN</td>\n",
       "      <td>NaN</td>\n",
       "      <td>NaN</td>\n",
       "      <td>NaN</td>\n",
       "      <td>43.3</td>\n",
       "    </tr>\n",
       "    <tr>\n",
       "      <th>13</th>\n",
       "      <td>Bhutan</td>\n",
       "      <td>NaN</td>\n",
       "      <td>NaN</td>\n",
       "      <td>NaN</td>\n",
       "      <td>NaN</td>\n",
       "      <td>NaN</td>\n",
       "      <td>NaN</td>\n",
       "      <td>NaN</td>\n",
       "      <td>NaN</td>\n",
       "      <td>NaN</td>\n",
       "      <td>...</td>\n",
       "      <td>NaN</td>\n",
       "      <td>NaN</td>\n",
       "      <td>NaN</td>\n",
       "      <td>52.8</td>\n",
       "      <td>NaN</td>\n",
       "      <td>NaN</td>\n",
       "      <td>NaN</td>\n",
       "      <td>NaN</td>\n",
       "      <td>NaN</td>\n",
       "      <td>NaN</td>\n",
       "    </tr>\n",
       "    <tr>\n",
       "      <th>57</th>\n",
       "      <td>India</td>\n",
       "      <td>NaN</td>\n",
       "      <td>NaN</td>\n",
       "      <td>NaN</td>\n",
       "      <td>NaN</td>\n",
       "      <td>NaN</td>\n",
       "      <td>NaN</td>\n",
       "      <td>40.8</td>\n",
       "      <td>NaN</td>\n",
       "      <td>NaN</td>\n",
       "      <td>...</td>\n",
       "      <td>NaN</td>\n",
       "      <td>NaN</td>\n",
       "      <td>NaN</td>\n",
       "      <td>NaN</td>\n",
       "      <td>62.8</td>\n",
       "      <td>NaN</td>\n",
       "      <td>NaN</td>\n",
       "      <td>NaN</td>\n",
       "      <td>NaN</td>\n",
       "      <td>62.8</td>\n",
       "    </tr>\n",
       "  </tbody>\n",
       "</table>\n",
       "<p>5 rows × 38 columns</p>\n",
       "</div>"
      ],
      "text/plain": [
       "                       geo  1975  1976  1977  1978  1979  1980  1981  1982  \\\n",
       "131               Thailand   NaN   NaN   NaN   NaN   NaN  88.0   NaN   NaN   \n",
       "114  Sao Tome and Principe   NaN   NaN   NaN   NaN   NaN   NaN  57.3   NaN   \n",
       "119           Sierra Leone   NaN   NaN   NaN   NaN   NaN   NaN   NaN   NaN   \n",
       "13                  Bhutan   NaN   NaN   NaN   NaN   NaN   NaN   NaN   NaN   \n",
       "57                   India   NaN   NaN   NaN   NaN   NaN   NaN  40.8   NaN   \n",
       "\n",
       "     1983  ...   2002  2003  2004  2005  2006  2007  2008  2009  2010  2011  \n",
       "131   NaN  ...    NaN   NaN   NaN  93.5   NaN   NaN   NaN   NaN   NaN   NaN  \n",
       "114   NaN  ...    NaN   NaN   NaN   NaN   NaN   NaN  69.5   NaN   NaN   NaN  \n",
       "119   NaN  ...    NaN   NaN  34.8   NaN   NaN   NaN   NaN   NaN   NaN  43.3  \n",
       "13    NaN  ...    NaN   NaN   NaN  52.8   NaN   NaN   NaN   NaN   NaN   NaN  \n",
       "57    NaN  ...    NaN   NaN   NaN   NaN  62.8   NaN   NaN   NaN   NaN  62.8  \n",
       "\n",
       "[5 rows x 38 columns]"
      ]
     },
     "execution_count": 7,
     "metadata": {},
     "output_type": "execute_result"
    }
   ],
   "source": [
    "# a random sample of five rows\n",
    "literacy_rate.sample(5)"
   ]
  },
  {
   "cell_type": "code",
   "execution_count": 8,
   "metadata": {},
   "outputs": [
    {
     "data": {
      "text/html": [
       "<div>\n",
       "<style scoped>\n",
       "    .dataframe tbody tr th:only-of-type {\n",
       "        vertical-align: middle;\n",
       "    }\n",
       "\n",
       "    .dataframe tbody tr th {\n",
       "        vertical-align: top;\n",
       "    }\n",
       "\n",
       "    .dataframe thead th {\n",
       "        text-align: right;\n",
       "    }\n",
       "</style>\n",
       "<table border=\"1\" class=\"dataframe\">\n",
       "  <thead>\n",
       "    <tr style=\"text-align: right;\">\n",
       "      <th></th>\n",
       "      <th>1947</th>\n",
       "      <th>1948</th>\n",
       "      <th>1949</th>\n",
       "      <th>1950</th>\n",
       "      <th>1951</th>\n",
       "      <th>1952</th>\n",
       "      <th>1953</th>\n",
       "      <th>1954</th>\n",
       "      <th>1955</th>\n",
       "      <th>1956</th>\n",
       "      <th>...</th>\n",
       "      <th>2008</th>\n",
       "      <th>2009</th>\n",
       "      <th>2010</th>\n",
       "      <th>2011</th>\n",
       "      <th>2012</th>\n",
       "      <th>2013</th>\n",
       "      <th>2014</th>\n",
       "      <th>2015</th>\n",
       "      <th>2016</th>\n",
       "      <th>2017</th>\n",
       "    </tr>\n",
       "  </thead>\n",
       "  <tbody>\n",
       "    <tr>\n",
       "      <th>count</th>\n",
       "      <td>1.0</td>\n",
       "      <td>1.0</td>\n",
       "      <td>1.0</td>\n",
       "      <td>1.0</td>\n",
       "      <td>1.0</td>\n",
       "      <td>1.0</td>\n",
       "      <td>2.000000</td>\n",
       "      <td>2.000000</td>\n",
       "      <td>2.000000</td>\n",
       "      <td>2.000000</td>\n",
       "      <td>...</td>\n",
       "      <td>113.000000</td>\n",
       "      <td>121.000000</td>\n",
       "      <td>124.000000</td>\n",
       "      <td>123.000000</td>\n",
       "      <td>124.000000</td>\n",
       "      <td>119.000000</td>\n",
       "      <td>120.000000</td>\n",
       "      <td>106.000000</td>\n",
       "      <td>105.000000</td>\n",
       "      <td>87.000000</td>\n",
       "    </tr>\n",
       "    <tr>\n",
       "      <th>mean</th>\n",
       "      <td>3.9</td>\n",
       "      <td>3.8</td>\n",
       "      <td>5.9</td>\n",
       "      <td>5.3</td>\n",
       "      <td>3.3</td>\n",
       "      <td>3.0</td>\n",
       "      <td>2.400000</td>\n",
       "      <td>3.900000</td>\n",
       "      <td>3.450000</td>\n",
       "      <td>3.200000</td>\n",
       "      <td>...</td>\n",
       "      <td>7.691796</td>\n",
       "      <td>8.420785</td>\n",
       "      <td>8.760024</td>\n",
       "      <td>8.363691</td>\n",
       "      <td>8.727976</td>\n",
       "      <td>8.722244</td>\n",
       "      <td>8.129633</td>\n",
       "      <td>8.628330</td>\n",
       "      <td>8.290267</td>\n",
       "      <td>8.007885</td>\n",
       "    </tr>\n",
       "    <tr>\n",
       "      <th>std</th>\n",
       "      <td>NaN</td>\n",
       "      <td>NaN</td>\n",
       "      <td>NaN</td>\n",
       "      <td>NaN</td>\n",
       "      <td>NaN</td>\n",
       "      <td>NaN</td>\n",
       "      <td>0.707107</td>\n",
       "      <td>2.262742</td>\n",
       "      <td>1.343503</td>\n",
       "      <td>1.272792</td>\n",
       "      <td>...</td>\n",
       "      <td>6.702141</td>\n",
       "      <td>5.325396</td>\n",
       "      <td>6.382729</td>\n",
       "      <td>6.189074</td>\n",
       "      <td>6.149473</td>\n",
       "      <td>6.601463</td>\n",
       "      <td>6.135705</td>\n",
       "      <td>6.732989</td>\n",
       "      <td>5.944282</td>\n",
       "      <td>5.682421</td>\n",
       "    </tr>\n",
       "    <tr>\n",
       "      <th>min</th>\n",
       "      <td>3.9</td>\n",
       "      <td>3.8</td>\n",
       "      <td>5.9</td>\n",
       "      <td>5.3</td>\n",
       "      <td>3.3</td>\n",
       "      <td>3.0</td>\n",
       "      <td>1.900000</td>\n",
       "      <td>2.300000</td>\n",
       "      <td>2.500000</td>\n",
       "      <td>2.300000</td>\n",
       "      <td>...</td>\n",
       "      <td>0.310000</td>\n",
       "      <td>0.190000</td>\n",
       "      <td>0.350000</td>\n",
       "      <td>0.200000</td>\n",
       "      <td>0.480000</td>\n",
       "      <td>0.278000</td>\n",
       "      <td>0.180000</td>\n",
       "      <td>0.160000</td>\n",
       "      <td>0.140000</td>\n",
       "      <td>0.136000</td>\n",
       "    </tr>\n",
       "    <tr>\n",
       "      <th>25%</th>\n",
       "      <td>3.9</td>\n",
       "      <td>3.8</td>\n",
       "      <td>5.9</td>\n",
       "      <td>5.3</td>\n",
       "      <td>3.3</td>\n",
       "      <td>3.0</td>\n",
       "      <td>2.150000</td>\n",
       "      <td>3.100000</td>\n",
       "      <td>2.975000</td>\n",
       "      <td>2.750000</td>\n",
       "      <td>...</td>\n",
       "      <td>3.870000</td>\n",
       "      <td>5.120000</td>\n",
       "      <td>4.240000</td>\n",
       "      <td>4.215000</td>\n",
       "      <td>4.250000</td>\n",
       "      <td>4.165000</td>\n",
       "      <td>4.145000</td>\n",
       "      <td>4.360000</td>\n",
       "      <td>4.420000</td>\n",
       "      <td>4.195000</td>\n",
       "    </tr>\n",
       "    <tr>\n",
       "      <th>50%</th>\n",
       "      <td>3.9</td>\n",
       "      <td>3.8</td>\n",
       "      <td>5.9</td>\n",
       "      <td>5.3</td>\n",
       "      <td>3.3</td>\n",
       "      <td>3.0</td>\n",
       "      <td>2.400000</td>\n",
       "      <td>3.900000</td>\n",
       "      <td>3.450000</td>\n",
       "      <td>3.200000</td>\n",
       "      <td>...</td>\n",
       "      <td>5.980000</td>\n",
       "      <td>7.540000</td>\n",
       "      <td>7.415000</td>\n",
       "      <td>6.920000</td>\n",
       "      <td>7.405000</td>\n",
       "      <td>6.950000</td>\n",
       "      <td>6.515000</td>\n",
       "      <td>6.815000</td>\n",
       "      <td>6.330000</td>\n",
       "      <td>6.160000</td>\n",
       "    </tr>\n",
       "    <tr>\n",
       "      <th>75%</th>\n",
       "      <td>3.9</td>\n",
       "      <td>3.8</td>\n",
       "      <td>5.9</td>\n",
       "      <td>5.3</td>\n",
       "      <td>3.3</td>\n",
       "      <td>3.0</td>\n",
       "      <td>2.650000</td>\n",
       "      <td>4.700000</td>\n",
       "      <td>3.925000</td>\n",
       "      <td>3.650000</td>\n",
       "      <td>...</td>\n",
       "      <td>8.940000</td>\n",
       "      <td>10.000000</td>\n",
       "      <td>10.850000</td>\n",
       "      <td>10.700000</td>\n",
       "      <td>11.650000</td>\n",
       "      <td>11.750000</td>\n",
       "      <td>10.300000</td>\n",
       "      <td>10.142500</td>\n",
       "      <td>9.730000</td>\n",
       "      <td>9.460000</td>\n",
       "    </tr>\n",
       "    <tr>\n",
       "      <th>max</th>\n",
       "      <td>3.9</td>\n",
       "      <td>3.8</td>\n",
       "      <td>5.9</td>\n",
       "      <td>5.3</td>\n",
       "      <td>3.3</td>\n",
       "      <td>3.0</td>\n",
       "      <td>2.900000</td>\n",
       "      <td>5.500000</td>\n",
       "      <td>4.400000</td>\n",
       "      <td>4.100000</td>\n",
       "      <td>...</td>\n",
       "      <td>37.600000</td>\n",
       "      <td>32.200000</td>\n",
       "      <td>32.000000</td>\n",
       "      <td>31.400000</td>\n",
       "      <td>31.000000</td>\n",
       "      <td>29.000000</td>\n",
       "      <td>28.000000</td>\n",
       "      <td>36.500000</td>\n",
       "      <td>26.900000</td>\n",
       "      <td>27.400000</td>\n",
       "    </tr>\n",
       "  </tbody>\n",
       "</table>\n",
       "<p>8 rows × 71 columns</p>\n",
       "</div>"
      ],
      "text/plain": [
       "       1947  1948  1949  1950  1951  1952      1953      1954      1955  \\\n",
       "count   1.0   1.0   1.0   1.0   1.0   1.0  2.000000  2.000000  2.000000   \n",
       "mean    3.9   3.8   5.9   5.3   3.3   3.0  2.400000  3.900000  3.450000   \n",
       "std     NaN   NaN   NaN   NaN   NaN   NaN  0.707107  2.262742  1.343503   \n",
       "min     3.9   3.8   5.9   5.3   3.3   3.0  1.900000  2.300000  2.500000   \n",
       "25%     3.9   3.8   5.9   5.3   3.3   3.0  2.150000  3.100000  2.975000   \n",
       "50%     3.9   3.8   5.9   5.3   3.3   3.0  2.400000  3.900000  3.450000   \n",
       "75%     3.9   3.8   5.9   5.3   3.3   3.0  2.650000  4.700000  3.925000   \n",
       "max     3.9   3.8   5.9   5.3   3.3   3.0  2.900000  5.500000  4.400000   \n",
       "\n",
       "           1956    ...            2008        2009        2010        2011  \\\n",
       "count  2.000000    ...      113.000000  121.000000  124.000000  123.000000   \n",
       "mean   3.200000    ...        7.691796    8.420785    8.760024    8.363691   \n",
       "std    1.272792    ...        6.702141    5.325396    6.382729    6.189074   \n",
       "min    2.300000    ...        0.310000    0.190000    0.350000    0.200000   \n",
       "25%    2.750000    ...        3.870000    5.120000    4.240000    4.215000   \n",
       "50%    3.200000    ...        5.980000    7.540000    7.415000    6.920000   \n",
       "75%    3.650000    ...        8.940000   10.000000   10.850000   10.700000   \n",
       "max    4.100000    ...       37.600000   32.200000   32.000000   31.400000   \n",
       "\n",
       "             2012        2013        2014        2015        2016       2017  \n",
       "count  124.000000  119.000000  120.000000  106.000000  105.000000  87.000000  \n",
       "mean     8.727976    8.722244    8.129633    8.628330    8.290267   8.007885  \n",
       "std      6.149473    6.601463    6.135705    6.732989    5.944282   5.682421  \n",
       "min      0.480000    0.278000    0.180000    0.160000    0.140000   0.136000  \n",
       "25%      4.250000    4.165000    4.145000    4.360000    4.420000   4.195000  \n",
       "50%      7.405000    6.950000    6.515000    6.815000    6.330000   6.160000  \n",
       "75%     11.650000   11.750000   10.300000   10.142500    9.730000   9.460000  \n",
       "max     31.000000   29.000000   28.000000   36.500000   26.900000  27.400000  \n",
       "\n",
       "[8 rows x 71 columns]"
      ]
     },
     "execution_count": 8,
     "metadata": {},
     "output_type": "execute_result"
    }
   ],
   "source": [
    "#summmary statistics\n",
    "unemployment_rate.describe()"
   ]
  },
  {
   "cell_type": "markdown",
   "metadata": {},
   "source": [
    "We can see the presence of missing values in the data which could be a result of the cost of carrying out the needed reasearch to estimate these indicators. For instance, for the rate of unemployment, the number of participating countries did however improved over the years, from 1 in 1947 to 124 in 2010. It is worthy of note that some of these researches are not carried out year after year but intervals of 2 to 6 six years.\n",
    "\n",
    "You must have noticed that the indicators are in sepearate files with years as columns. It would however be a lot easier to work with these dataframes if they are reshaped to have the years as index column and the values for each indicator stacked in a single column. We will then go on to merge the dataframes into a single dataframe."
   ]
  },
  {
   "cell_type": "markdown",
   "metadata": {},
   "source": [
    "### Data Cleaning (Reshaping the datasets)"
   ]
  },
  {
   "cell_type": "code",
   "execution_count": 9,
   "metadata": {},
   "outputs": [],
   "source": [
    "def melt_data(data):\n",
    "    \"\"\"This fucntion reshapes a dataframe using .melt() to return indicators in a single column\n",
    "    \"\"\"\n",
    "    melted_data = data.melt(id_vars='geo', var_name = 'year', value_name = 'indicator')\n",
    "    return melted_data"
   ]
  },
  {
   "cell_type": "code",
   "execution_count": 11,
   "metadata": {},
   "outputs": [],
   "source": [
    "# reshape dataframes\n",
    "melted_data_files = [pd.DataFrame(melt_data(pd.read_csv(data))) for data in data_files]"
   ]
  },
  {
   "cell_type": "code",
   "execution_count": 12,
   "metadata": {},
   "outputs": [
    {
     "data": {
      "text/html": [
       "<div>\n",
       "<style scoped>\n",
       "    .dataframe tbody tr th:only-of-type {\n",
       "        vertical-align: middle;\n",
       "    }\n",
       "\n",
       "    .dataframe tbody tr th {\n",
       "        vertical-align: top;\n",
       "    }\n",
       "\n",
       "    .dataframe thead th {\n",
       "        text-align: right;\n",
       "    }\n",
       "</style>\n",
       "<table border=\"1\" class=\"dataframe\">\n",
       "  <thead>\n",
       "    <tr style=\"text-align: right;\">\n",
       "      <th></th>\n",
       "      <th>geo</th>\n",
       "      <th>year</th>\n",
       "      <th>indicator</th>\n",
       "    </tr>\n",
       "  </thead>\n",
       "  <tbody>\n",
       "    <tr>\n",
       "      <th>0</th>\n",
       "      <td>Afghanistan</td>\n",
       "      <td>1947</td>\n",
       "      <td>NaN</td>\n",
       "    </tr>\n",
       "    <tr>\n",
       "      <th>1</th>\n",
       "      <td>Albania</td>\n",
       "      <td>1947</td>\n",
       "      <td>NaN</td>\n",
       "    </tr>\n",
       "    <tr>\n",
       "      <th>2</th>\n",
       "      <td>Algeria</td>\n",
       "      <td>1947</td>\n",
       "      <td>NaN</td>\n",
       "    </tr>\n",
       "    <tr>\n",
       "      <th>3</th>\n",
       "      <td>Angola</td>\n",
       "      <td>1947</td>\n",
       "      <td>NaN</td>\n",
       "    </tr>\n",
       "    <tr>\n",
       "      <th>4</th>\n",
       "      <td>Antigua and Barbuda</td>\n",
       "      <td>1947</td>\n",
       "      <td>NaN</td>\n",
       "    </tr>\n",
       "  </tbody>\n",
       "</table>\n",
       "</div>"
      ],
      "text/plain": [
       "                   geo  year  indicator\n",
       "0          Afghanistan  1947        NaN\n",
       "1              Albania  1947        NaN\n",
       "2              Algeria  1947        NaN\n",
       "3               Angola  1947        NaN\n",
       "4  Antigua and Barbuda  1947        NaN"
      ]
     },
     "execution_count": 12,
     "metadata": {},
     "output_type": "execute_result"
    }
   ],
   "source": [
    "melted_data_files[0].head()"
   ]
  },
  {
   "cell_type": "markdown",
   "metadata": {},
   "source": [
    "> Nice. The datafarmes are now in a shape that we want. The next step is to merge them into a single dataframe."
   ]
  },
  {
   "cell_type": "code",
   "execution_count": 13,
   "metadata": {},
   "outputs": [],
   "source": [
    "# merge dataframes\n",
    "merged_data = melted_data_files[0]\n",
    "for df in melted_data_files[1:]:\n",
    "    merged_data = merged_data.merge(df, how = 'inner', on=['geo', 'year'])"
   ]
  },
  {
   "cell_type": "code",
   "execution_count": 14,
   "metadata": {},
   "outputs": [
    {
     "data": {
      "text/html": [
       "<div>\n",
       "<style scoped>\n",
       "    .dataframe tbody tr th:only-of-type {\n",
       "        vertical-align: middle;\n",
       "    }\n",
       "\n",
       "    .dataframe tbody tr th {\n",
       "        vertical-align: top;\n",
       "    }\n",
       "\n",
       "    .dataframe thead th {\n",
       "        text-align: right;\n",
       "    }\n",
       "</style>\n",
       "<table border=\"1\" class=\"dataframe\">\n",
       "  <thead>\n",
       "    <tr style=\"text-align: right;\">\n",
       "      <th></th>\n",
       "      <th>geo</th>\n",
       "      <th>year</th>\n",
       "      <th>indicator_x</th>\n",
       "      <th>indicator_y</th>\n",
       "      <th>indicator_x</th>\n",
       "      <th>indicator_y</th>\n",
       "    </tr>\n",
       "  </thead>\n",
       "  <tbody>\n",
       "    <tr>\n",
       "      <th>0</th>\n",
       "      <td>Albania</td>\n",
       "      <td>1978</td>\n",
       "      <td>NaN</td>\n",
       "      <td>4350</td>\n",
       "      <td>NaN</td>\n",
       "      <td>NaN</td>\n",
       "    </tr>\n",
       "    <tr>\n",
       "      <th>1</th>\n",
       "      <td>Algeria</td>\n",
       "      <td>1978</td>\n",
       "      <td>NaN</td>\n",
       "      <td>9830</td>\n",
       "      <td>NaN</td>\n",
       "      <td>NaN</td>\n",
       "    </tr>\n",
       "    <tr>\n",
       "      <th>2</th>\n",
       "      <td>Angola</td>\n",
       "      <td>1978</td>\n",
       "      <td>NaN</td>\n",
       "      <td>4720</td>\n",
       "      <td>NaN</td>\n",
       "      <td>NaN</td>\n",
       "    </tr>\n",
       "    <tr>\n",
       "      <th>3</th>\n",
       "      <td>Argentina</td>\n",
       "      <td>1978</td>\n",
       "      <td>2.8</td>\n",
       "      <td>12700</td>\n",
       "      <td>NaN</td>\n",
       "      <td>NaN</td>\n",
       "    </tr>\n",
       "    <tr>\n",
       "      <th>4</th>\n",
       "      <td>Armenia</td>\n",
       "      <td>1978</td>\n",
       "      <td>NaN</td>\n",
       "      <td>3970</td>\n",
       "      <td>NaN</td>\n",
       "      <td>NaN</td>\n",
       "    </tr>\n",
       "  </tbody>\n",
       "</table>\n",
       "</div>"
      ],
      "text/plain": [
       "         geo  year  indicator_x  indicator_y  indicator_x  indicator_y\n",
       "0    Albania  1978          NaN         4350          NaN          NaN\n",
       "1    Algeria  1978          NaN         9830          NaN          NaN\n",
       "2     Angola  1978          NaN         4720          NaN          NaN\n",
       "3  Argentina  1978          2.8        12700          NaN          NaN\n",
       "4    Armenia  1978          NaN         3970          NaN          NaN"
      ]
     },
     "execution_count": 14,
     "metadata": {},
     "output_type": "execute_result"
    }
   ],
   "source": [
    "merged_data.head()"
   ]
  },
  {
   "cell_type": "markdown",
   "metadata": {},
   "source": [
    ">The indicator names (indicator_x and indicator_y) are not descriptive and could be interpreted to mean anything. The next step would be to rename them and set the year as the index column."
   ]
  },
  {
   "cell_type": "code",
   "execution_count": 15,
   "metadata": {},
   "outputs": [],
   "source": [
    "# rename columns\n",
    "merged_data.columns = ['country', 'year', 'unemployment_rate', 'gdp', 'literacy_rate', 'poverty_rate']\n",
    "\n",
    "# set index column\n",
    "merged_data.set_index('year', inplace=True)"
   ]
  },
  {
   "cell_type": "code",
   "execution_count": 16,
   "metadata": {},
   "outputs": [
    {
     "data": {
      "text/html": [
       "<div>\n",
       "<style scoped>\n",
       "    .dataframe tbody tr th:only-of-type {\n",
       "        vertical-align: middle;\n",
       "    }\n",
       "\n",
       "    .dataframe tbody tr th {\n",
       "        vertical-align: top;\n",
       "    }\n",
       "\n",
       "    .dataframe thead th {\n",
       "        text-align: right;\n",
       "    }\n",
       "</style>\n",
       "<table border=\"1\" class=\"dataframe\">\n",
       "  <thead>\n",
       "    <tr style=\"text-align: right;\">\n",
       "      <th></th>\n",
       "      <th>country</th>\n",
       "      <th>unemployment_rate</th>\n",
       "      <th>gdp</th>\n",
       "      <th>literacy_rate</th>\n",
       "      <th>poverty_rate</th>\n",
       "    </tr>\n",
       "    <tr>\n",
       "      <th>year</th>\n",
       "      <th></th>\n",
       "      <th></th>\n",
       "      <th></th>\n",
       "      <th></th>\n",
       "      <th></th>\n",
       "    </tr>\n",
       "  </thead>\n",
       "  <tbody>\n",
       "    <tr>\n",
       "      <th>2010</th>\n",
       "      <td>Egypt</td>\n",
       "      <td>8.76</td>\n",
       "      <td>9860</td>\n",
       "      <td>72.0</td>\n",
       "      <td>NaN</td>\n",
       "    </tr>\n",
       "    <tr>\n",
       "      <th>1982</th>\n",
       "      <td>Niger</td>\n",
       "      <td>NaN</td>\n",
       "      <td>1250</td>\n",
       "      <td>NaN</td>\n",
       "      <td>NaN</td>\n",
       "    </tr>\n",
       "    <tr>\n",
       "      <th>2004</th>\n",
       "      <td>Yemen</td>\n",
       "      <td>16.20</td>\n",
       "      <td>4050</td>\n",
       "      <td>54.8</td>\n",
       "      <td>NaN</td>\n",
       "    </tr>\n",
       "    <tr>\n",
       "      <th>2001</th>\n",
       "      <td>Armenia</td>\n",
       "      <td>NaN</td>\n",
       "      <td>3220</td>\n",
       "      <td>99.4</td>\n",
       "      <td>0.576</td>\n",
       "    </tr>\n",
       "    <tr>\n",
       "      <th>2000</th>\n",
       "      <td>Moldova</td>\n",
       "      <td>2.30</td>\n",
       "      <td>2320</td>\n",
       "      <td>96.7</td>\n",
       "      <td>NaN</td>\n",
       "    </tr>\n",
       "  </tbody>\n",
       "</table>\n",
       "</div>"
      ],
      "text/plain": [
       "      country  unemployment_rate   gdp  literacy_rate  poverty_rate\n",
       "year                                                               \n",
       "2010    Egypt               8.76  9860           72.0           NaN\n",
       "1982    Niger                NaN  1250            NaN           NaN\n",
       "2004    Yemen              16.20  4050           54.8           NaN\n",
       "2001  Armenia                NaN  3220           99.4         0.576\n",
       "2000  Moldova               2.30  2320           96.7           NaN"
      ]
     },
     "execution_count": 16,
     "metadata": {},
     "output_type": "execute_result"
    }
   ],
   "source": [
    "merged_data.sample(5)"
   ]
  },
  {
   "cell_type": "code",
   "execution_count": 17,
   "metadata": {},
   "outputs": [
    {
     "data": {
      "text/plain": [
       "(4080, 5)"
      ]
     },
     "execution_count": 17,
     "metadata": {},
     "output_type": "execute_result"
    }
   ],
   "source": [
    "merged_data.shape"
   ]
  },
  {
   "cell_type": "code",
   "execution_count": 18,
   "metadata": {},
   "outputs": [
    {
     "data": {
      "text/html": [
       "<div>\n",
       "<style scoped>\n",
       "    .dataframe tbody tr th:only-of-type {\n",
       "        vertical-align: middle;\n",
       "    }\n",
       "\n",
       "    .dataframe tbody tr th {\n",
       "        vertical-align: top;\n",
       "    }\n",
       "\n",
       "    .dataframe thead th {\n",
       "        text-align: right;\n",
       "    }\n",
       "</style>\n",
       "<table border=\"1\" class=\"dataframe\">\n",
       "  <thead>\n",
       "    <tr style=\"text-align: right;\">\n",
       "      <th></th>\n",
       "      <th>unemployment_rate</th>\n",
       "      <th>gdp</th>\n",
       "      <th>literacy_rate</th>\n",
       "      <th>poverty_rate</th>\n",
       "    </tr>\n",
       "  </thead>\n",
       "  <tbody>\n",
       "    <tr>\n",
       "      <th>count</th>\n",
       "      <td>1848.000000</td>\n",
       "      <td>4080.000000</td>\n",
       "      <td>456.000000</td>\n",
       "      <td>935.000000</td>\n",
       "    </tr>\n",
       "    <tr>\n",
       "      <th>mean</th>\n",
       "      <td>9.251543</td>\n",
       "      <td>7111.211029</td>\n",
       "      <td>76.672785</td>\n",
       "      <td>13.483978</td>\n",
       "    </tr>\n",
       "    <tr>\n",
       "      <th>std</th>\n",
       "      <td>6.807222</td>\n",
       "      <td>6593.596177</td>\n",
       "      <td>22.503600</td>\n",
       "      <td>67.602952</td>\n",
       "    </tr>\n",
       "    <tr>\n",
       "      <th>min</th>\n",
       "      <td>0.050000</td>\n",
       "      <td>247.000000</td>\n",
       "      <td>9.390000</td>\n",
       "      <td>0.000000</td>\n",
       "    </tr>\n",
       "    <tr>\n",
       "      <th>25%</th>\n",
       "      <td>4.187500</td>\n",
       "      <td>1907.500000</td>\n",
       "      <td>62.800000</td>\n",
       "      <td>0.050750</td>\n",
       "    </tr>\n",
       "    <tr>\n",
       "      <th>50%</th>\n",
       "      <td>7.860000</td>\n",
       "      <td>4825.000000</td>\n",
       "      <td>85.000000</td>\n",
       "      <td>0.652000</td>\n",
       "    </tr>\n",
       "    <tr>\n",
       "      <th>75%</th>\n",
       "      <td>12.700000</td>\n",
       "      <td>10300.000000</td>\n",
       "      <td>94.100000</td>\n",
       "      <td>3.330000</td>\n",
       "    </tr>\n",
       "    <tr>\n",
       "      <th>max</th>\n",
       "      <td>53.700000</td>\n",
       "      <td>38600.000000</td>\n",
       "      <td>99.800000</td>\n",
       "      <td>838.000000</td>\n",
       "    </tr>\n",
       "  </tbody>\n",
       "</table>\n",
       "</div>"
      ],
      "text/plain": [
       "       unemployment_rate           gdp  literacy_rate  poverty_rate\n",
       "count        1848.000000   4080.000000     456.000000    935.000000\n",
       "mean            9.251543   7111.211029      76.672785     13.483978\n",
       "std             6.807222   6593.596177      22.503600     67.602952\n",
       "min             0.050000    247.000000       9.390000      0.000000\n",
       "25%             4.187500   1907.500000      62.800000      0.050750\n",
       "50%             7.860000   4825.000000      85.000000      0.652000\n",
       "75%            12.700000  10300.000000      94.100000      3.330000\n",
       "max            53.700000  38600.000000      99.800000    838.000000"
      ]
     },
     "execution_count": 18,
     "metadata": {},
     "output_type": "execute_result"
    }
   ],
   "source": [
    "merged_data.describe()"
   ]
  },
  {
   "cell_type": "markdown",
   "metadata": {},
   "source": [
    ">The new dataframe has 4080 rows and 5 columns. We can find missing values in following columns: unemployment_rate, literacy_rate, and poverty_rate. 75% of countries have an unemployment rate, gdp, literacy rate, and poverty rate below 12.70%, 10300%, 94.10%, and 3.33% respectively.\n",
    "\n",
    "> I am curious as to how these indicators have changed in some countries overtime. I will explore the indicators for China, Nigeria, and Brazil to satisfy my curiosity and to probably build some intuition about the data."
   ]
  },
  {
   "cell_type": "code",
   "execution_count": 19,
   "metadata": {},
   "outputs": [],
   "source": [
    "def graphs(data, indicator, title):\n",
    "    \"\"\"This function accepts three arguments (data, indicator name, and title) and returns a bar graph\n",
    "    \"\"\"\n",
    "    # countries\n",
    "    countries = ['China', 'Nigeria', 'Brazil']\n",
    "    # filter\n",
    "    mask = data[indicator].isnull()==False\n",
    "    \n",
    "    for country in countries:\n",
    "        indicator_by_country = data[['country',indicator]][mask]\n",
    "        df = indicator_by_country[indicator_by_country['country'] == country]\n",
    "        #plot graph\n",
    "        df.plot.bar(figsize=(7,6))\n",
    "        plt.suptitle('{}: {}'.format(country, title), fontsize=14)\n",
    "        plt.ylabel(title + ' (%)', fontsize=14)\n",
    "        plt.xlabel(s='Year',fontsize=14);\n",
    "    return"
   ]
  },
  {
   "cell_type": "code",
   "execution_count": 20,
   "metadata": {},
   "outputs": [
    {
     "data": {
      "image/png": "[encoded data removed]",
      "text/plain": [
       "<Figure size 504x432 with 1 Axes>"
      ]
     },
     "metadata": {
      "needs_background": "light"
     },
     "output_type": "display_data"
    },
    {
     "data": {
      "image/png": "[encoded data removed]",
      "text/plain": [
       "<Figure size 504x432 with 1 Axes>"
      ]
     },
     "metadata": {
      "needs_background": "light"
     },
     "output_type": "display_data"
    },
    {
     "data": {
      "image/png": "[encoded data removed]",
      "text/plain": [
       "<Figure size 504x432 with 1 Axes>"
      ]
     },
     "metadata": {
      "needs_background": "light"
     },
     "output_type": "display_data"
    }
   ],
   "source": [
    "graphs(merged_data, 'poverty_rate', 'Poverty  Rate')"
   ]
  },
  {
   "cell_type": "markdown",
   "metadata": {},
   "source": [
    "> While the poverty rate in china has reduced greatly since 1981, it has been a continued increase in Nigeria. Recent news says Nigeria is \"the country with the largest number of extremely poor\" citizens (check <a href=https://www.vanguardngr.com/2018/06/nigeria-overtakes-india-as-worlds-poverty-capital-report/>here</a> for more details). The highest poverty rate experiened in Brazil was during the early 1990s. The country has since then experiened a a slow but continued decline."
   ]
  },
  {
   "cell_type": "code",
   "execution_count": 21,
   "metadata": {},
   "outputs": [
    {
     "data": {
      "image/png": "[encoded data removed]",
      "text/plain": [
       "<Figure size 504x432 with 1 Axes>"
      ]
     },
     "metadata": {
      "needs_background": "light"
     },
     "output_type": "display_data"
    },
    {
     "data": {
      "image/png": "[encoded data removed]",
      "text/plain": [
       "<Figure size 504x432 with 1 Axes>"
      ]
     },
     "metadata": {
      "needs_background": "light"
     },
     "output_type": "display_data"
    },
    {
     "data": {
      "image/png": "[encoded data removed]",
      "text/plain": [
       "<Figure size 504x432 with 1 Axes>"
      ]
     },
     "metadata": {
      "needs_background": "light"
     },
     "output_type": "display_data"
    }
   ],
   "source": [
    "graphs(merged_data, 'unemployment_rate', 'Unemployment  Rate')"
   ]
  },
  {
   "cell_type": "markdown",
   "metadata": {},
   "source": [
    ">It seems like China might be doing a good job at lifting a good number of its citizens out of poverty but it must consider creating more jobs as there has been a continued increase in the rate unemployment. For Nigeria, the case seems to be gloomy again, with about 25% of its adult popultion living without job. Brazil on the other hand might consider intensifying their efforts at creating more jobs."
   ]
  },
  {
   "cell_type": "code",
   "execution_count": 22,
   "metadata": {},
   "outputs": [
    {
     "data": {
      "image/png": "[encoded data removed]",
      "text/plain": [
       "<Figure size 504x432 with 1 Axes>"
      ]
     },
     "metadata": {
      "needs_background": "light"
     },
     "output_type": "display_data"
    },
    {
     "data": {
      "image/png": "[encoded data removed]",
      "text/plain": [
       "<Figure size 504x432 with 1 Axes>"
      ]
     },
     "metadata": {
      "needs_background": "light"
     },
     "output_type": "display_data"
    },
    {
     "data": {
      "image/png": "[encoded data removed]",
      "text/plain": [
       "<Figure size 504x432 with 1 Axes>"
      ]
     },
     "metadata": {
      "needs_background": "light"
     },
     "output_type": "display_data"
    }
   ],
   "source": [
    "graphs(merged_data, 'literacy_rate', 'Literacy  Rate')"
   ]
  },
  {
   "cell_type": "markdown",
   "metadata": {},
   "source": [
    ">Between 1986 and 2010 (that is a span of 24 years), China's literacy rate increased from a little about 60% to over 90%. This could be one of the many explanations for China's rise and subsequent reduction in poverty rate. While Brazil has also seen an increase in its literacy rate to over 90%, Nigeria had a little downfall. It seems this African country, Nigeria, has a lot of work to do."
   ]
  },
  {
   "cell_type": "code",
   "execution_count": 23,
   "metadata": {},
   "outputs": [
    {
     "data": {
      "image/png": "[encoded data removed]",
      "text/plain": [
       "<Figure size 720x432 with 1 Axes>"
      ]
     },
     "metadata": {
      "needs_background": "light"
     },
     "output_type": "display_data"
    }
   ],
   "source": [
    "fig, ax = plt.subplots(figsize=(10, 6))\n",
    "merged_data.groupby('country')['literacy_rate'].mean().plot(kind='hist', alpha = 0.6, color='r')\n",
    "merged_data.groupby('country')['unemployment_rate'].mean().plot(kind='hist', alpha = 0.6)\n",
    "plt.xticks(np.arange(0,105,5))\n",
    "plt.legend();"
   ]
  },
  {
   "cell_type": "markdown",
   "metadata": {},
   "source": [
    ">The above histogram shows that more countries have a high literacy rate. It also seems to show that most the number of countries with umemplyment rate as high as 20% and above is quite low. This would be a good sign in more countries keep investing in eductaion and creating sustainable job oppotunities.\n",
    "\n",
    ">We will now go on to do away with the years with missing values."
   ]
  },
  {
   "cell_type": "code",
   "execution_count": 24,
   "metadata": {},
   "outputs": [
    {
     "name": "stdout",
     "output_type": "stream",
     "text": [
      "<class 'pandas.core.frame.DataFrame'>\n",
      "Index: 146 entries, 1981 to 2011\n",
      "Data columns (total 5 columns):\n",
      "country              146 non-null object\n",
      "unemployment_rate    146 non-null float64\n",
      "gdp                  146 non-null int64\n",
      "literacy_rate        146 non-null float64\n",
      "poverty_rate         146 non-null float64\n",
      "dtypes: float64(3), int64(1), object(1)\n",
      "memory usage: 6.8+ KB\n"
     ]
    }
   ],
   "source": [
    "# drop na\n",
    "indicators = merged_data.dropna()\n",
    "indicators.info()"
   ]
  },
  {
   "cell_type": "code",
   "execution_count": 25,
   "metadata": {},
   "outputs": [
    {
     "data": {
      "text/html": [
       "<div>\n",
       "<style scoped>\n",
       "    .dataframe tbody tr th:only-of-type {\n",
       "        vertical-align: middle;\n",
       "    }\n",
       "\n",
       "    .dataframe tbody tr th {\n",
       "        vertical-align: top;\n",
       "    }\n",
       "\n",
       "    .dataframe thead th {\n",
       "        text-align: right;\n",
       "    }\n",
       "</style>\n",
       "<table border=\"1\" class=\"dataframe\">\n",
       "  <thead>\n",
       "    <tr style=\"text-align: right;\">\n",
       "      <th></th>\n",
       "      <th>country</th>\n",
       "      <th>unemployment_rate</th>\n",
       "      <th>gdp</th>\n",
       "      <th>literacy_rate</th>\n",
       "      <th>poverty_rate</th>\n",
       "    </tr>\n",
       "    <tr>\n",
       "      <th>year</th>\n",
       "      <th></th>\n",
       "      <th></th>\n",
       "      <th></th>\n",
       "      <th></th>\n",
       "      <th></th>\n",
       "    </tr>\n",
       "  </thead>\n",
       "  <tbody>\n",
       "    <tr>\n",
       "      <th>1981</th>\n",
       "      <td>Venezuela</td>\n",
       "      <td>7.00</td>\n",
       "      <td>17400</td>\n",
       "      <td>84.7</td>\n",
       "      <td>0.508</td>\n",
       "    </tr>\n",
       "    <tr>\n",
       "      <th>1986</th>\n",
       "      <td>Iran</td>\n",
       "      <td>14.20</td>\n",
       "      <td>10300</td>\n",
       "      <td>52.3</td>\n",
       "      <td>2.070</td>\n",
       "    </tr>\n",
       "    <tr>\n",
       "      <th>1990</th>\n",
       "      <td>China</td>\n",
       "      <td>2.50</td>\n",
       "      <td>1530</td>\n",
       "      <td>77.8</td>\n",
       "      <td>689.000</td>\n",
       "    </tr>\n",
       "    <tr>\n",
       "      <th>1990</th>\n",
       "      <td>Indonesia</td>\n",
       "      <td>2.51</td>\n",
       "      <td>4620</td>\n",
       "      <td>81.5</td>\n",
       "      <td>96.900</td>\n",
       "    </tr>\n",
       "    <tr>\n",
       "      <th>1991</th>\n",
       "      <td>Argentina</td>\n",
       "      <td>6.32</td>\n",
       "      <td>12000</td>\n",
       "      <td>96.1</td>\n",
       "      <td>0.321</td>\n",
       "    </tr>\n",
       "  </tbody>\n",
       "</table>\n",
       "</div>"
      ],
      "text/plain": [
       "        country  unemployment_rate    gdp  literacy_rate  poverty_rate\n",
       "year                                                                  \n",
       "1981  Venezuela               7.00  17400           84.7         0.508\n",
       "1986       Iran              14.20  10300           52.3         2.070\n",
       "1990      China               2.50   1530           77.8       689.000\n",
       "1990  Indonesia               2.51   4620           81.5        96.900\n",
       "1991  Argentina               6.32  12000           96.1         0.321"
      ]
     },
     "execution_count": 25,
     "metadata": {},
     "output_type": "execute_result"
    }
   ],
   "source": [
    "indicators.head()"
   ]
  },
  {
   "cell_type": "markdown",
   "metadata": {},
   "source": [
    "> Wow, the data has drastically reduced. This is why it is better to not drop `nan` values but look for an alternative means like the mean of the data or forcast. We will however stick to dropping `nan` due to the enormous amount of missing vales.\n",
    "\n",
    "> The remaining part of this analysis will focus on using data from 2011. I decided to use this year because it is the most recent year that holds data for all indicators for the maximum number of countries (23)"
   ]
  },
  {
   "cell_type": "markdown",
   "metadata": {},
   "source": [
    "## Exploratory Data Analysis\n",
    "### Countries with the maximum and minimum values for each indicator."
   ]
  },
  {
   "cell_type": "code",
   "execution_count": 26,
   "metadata": {},
   "outputs": [],
   "source": [
    "# filter\n",
    "indicators_2011 = indicators.loc['2011':,:]"
   ]
  },
  {
   "cell_type": "code",
   "execution_count": 27,
   "metadata": {},
   "outputs": [],
   "source": [
    "def summary(data):\n",
    "    \"\"\"This function takes a data and returns the maximum and minimum\n",
    "    value for each indicator.\n",
    "    \"\"\"\n",
    "    \n",
    "    columns = indicators_2011.columns[1:]                          #indicators\n",
    "    \n",
    "    for col in columns:\n",
    "        # maximum indicator value\n",
    "        max_value = data[col].max()                                \n",
    "        max_value_filter = data[data[col] == max_value]\n",
    "        max_country = max_value_filter.country.values[0]\n",
    "        \n",
    "        # minimum indicator value\n",
    "        min_value = data[col].min()\n",
    "        min_value_filter = data[data[col] == min_value]\n",
    "        min_country = min_value_filter.country.values[0]\n",
    "        \n",
    "        # print country, maximum and minimum indicators\n",
    "        print('highest' + ' ' + col +'\\n'+ ' ' + max_country+':', max_value)\n",
    "        print('least' + ' ' + col +'\\n'+ ' ' + min_country+':', min_value)\n",
    "        print('\\n')"
   ]
  },
  {
   "cell_type": "code",
   "execution_count": 28,
   "metadata": {},
   "outputs": [
    {
     "name": "stdout",
     "output_type": "stream",
     "text": [
      "highest unemployment_rate\n",
      " South Africa: 24.7\n",
      "least unemployment_rate\n",
      " Togo: 1.86\n",
      "\n",
      "\n",
      "highest gdp\n",
      " Slovenia: 28800\n",
      "least gdp\n",
      " Togo: 1230\n",
      "\n",
      "\n",
      "highest literacy_rate\n",
      " Estonia: 99.8\n",
      "least literacy_rate\n",
      " Togo: 60.4\n",
      "\n",
      "\n",
      "highest poverty_rate\n",
      " Indonesia: 39.5\n",
      "least poverty_rate\n",
      " Poland: 0.0\n",
      "\n",
      "\n"
     ]
    }
   ],
   "source": [
    "summary(indicators_2011)"
   ]
  },
  {
   "cell_type": "markdown",
   "metadata": {},
   "source": [
    "> For the 23 countries that have the needed data  in 2011, Slovenia had the highest gdp while togo had the least. It seems Togo was also the country with least literacy rate. The country with the highest proportion of its citizens living in poverty based on the records for 2011 was Indenosia. South Africa had the highest rate of unemployment.\n",
    "\n",
    "> You will find below that countries like Slovenia and Poland that have the highest gdp and least proportion of poor citizens do have low rates of unemployment and literacy. That is interesting."
   ]
  },
  {
   "cell_type": "code",
   "execution_count": 29,
   "metadata": {},
   "outputs": [],
   "source": [
    "indicators_2011.set_index('country', inplace=True)    #set_index"
   ]
  },
  {
   "cell_type": "code",
   "execution_count": 36,
   "metadata": {},
   "outputs": [
    {
     "data": {
      "image/png": "[encoded data removed]",
      "text/plain": [
       "<Figure size 720x432 with 1 Axes>"
      ]
     },
     "metadata": {
      "needs_background": "light"
     },
     "output_type": "display_data"
    },
    {
     "data": {
      "image/png": "[encoded data removed]",
      "text/plain": [
       "<Figure size 720x432 with 1 Axes>"
      ]
     },
     "metadata": {
      "needs_background": "light"
     },
     "output_type": "display_data"
    },
    {
     "data": {
      "image/png": "[encoded data removed]",
      "text/plain": [
       "<Figure size 720x432 with 1 Axes>"
      ]
     },
     "metadata": {
      "needs_background": "light"
     },
     "output_type": "display_data"
    },
    {
     "data": {
      "image/png": "[encoded data removed]",
      "text/plain": [
       "<Figure size 720x432 with 1 Axes>"
      ]
     },
     "metadata": {
      "needs_background": "light"
     },
     "output_type": "display_data"
    },
    {
     "data": {
      "text/plain": [
       "<Figure size 432x288 with 0 Axes>"
      ]
     },
     "metadata": {},
     "output_type": "display_data"
    }
   ],
   "source": [
    "#indicators\n",
    "indicators_list = list(indicators_2011.columns)\n",
    "\n",
    "for indicator in indicators_list:\n",
    "    indicators_2011[indicator].plot.bar(figsize=(10,6))\n",
    "    plt.suptitle(indicator.replace('_', ' ').upper() + ' IN 2011', fontsize=14)  # title\n",
    "    plt.xlabel('Countries', fontsize=14)                                         # xlabel\n",
    "    plt.ylabel(indicator.replace('_', ' '),fontsize=14)                  # ylabel\n",
    "    plt.show()\n",
    "    plt.clf()"
   ]
  },
  {
   "cell_type": "markdown",
   "metadata": {},
   "source": [
    "> The last graph confirms our earlier finding that indonesia had a high rate of poverty as at 2011. We are careful not to name it the hieghest since the data is limited for a small number of countries."
   ]
  },
  {
   "cell_type": "markdown",
   "metadata": {},
   "source": [
    "### Correlation between Number of people living in poverty, literacy rate, GDP, and unemployment?"
   ]
  },
  {
   "cell_type": "code",
   "execution_count": 31,
   "metadata": {},
   "outputs": [
    {
     "data": {
      "text/html": [
       "<div>\n",
       "<style scoped>\n",
       "    .dataframe tbody tr th:only-of-type {\n",
       "        vertical-align: middle;\n",
       "    }\n",
       "\n",
       "    .dataframe tbody tr th {\n",
       "        vertical-align: top;\n",
       "    }\n",
       "\n",
       "    .dataframe thead th {\n",
       "        text-align: right;\n",
       "    }\n",
       "</style>\n",
       "<table border=\"1\" class=\"dataframe\">\n",
       "  <thead>\n",
       "    <tr style=\"text-align: right;\">\n",
       "      <th></th>\n",
       "      <th>unemployment_rate</th>\n",
       "      <th>gdp</th>\n",
       "      <th>literacy_rate</th>\n",
       "      <th>poverty_rate</th>\n",
       "    </tr>\n",
       "  </thead>\n",
       "  <tbody>\n",
       "    <tr>\n",
       "      <th>unemployment_rate</th>\n",
       "      <td>1.000000</td>\n",
       "      <td>0.212909</td>\n",
       "      <td>0.512550</td>\n",
       "      <td>-0.179355</td>\n",
       "    </tr>\n",
       "    <tr>\n",
       "      <th>gdp</th>\n",
       "      <td>0.212909</td>\n",
       "      <td>1.000000</td>\n",
       "      <td>0.596958</td>\n",
       "      <td>-0.225849</td>\n",
       "    </tr>\n",
       "    <tr>\n",
       "      <th>literacy_rate</th>\n",
       "      <td>0.512550</td>\n",
       "      <td>0.596958</td>\n",
       "      <td>1.000000</td>\n",
       "      <td>-0.124178</td>\n",
       "    </tr>\n",
       "    <tr>\n",
       "      <th>poverty_rate</th>\n",
       "      <td>-0.179355</td>\n",
       "      <td>-0.225849</td>\n",
       "      <td>-0.124178</td>\n",
       "      <td>1.000000</td>\n",
       "    </tr>\n",
       "  </tbody>\n",
       "</table>\n",
       "</div>"
      ],
      "text/plain": [
       "                   unemployment_rate       gdp  literacy_rate  poverty_rate\n",
       "unemployment_rate           1.000000  0.212909       0.512550     -0.179355\n",
       "gdp                         0.212909  1.000000       0.596958     -0.225849\n",
       "literacy_rate               0.512550  0.596958       1.000000     -0.124178\n",
       "poverty_rate               -0.179355 -0.225849      -0.124178      1.000000"
      ]
     },
     "execution_count": 31,
     "metadata": {},
     "output_type": "execute_result"
    }
   ],
   "source": [
    "# correlation\n",
    "r = indicators_2011.corr()\n",
    "r"
   ]
  },
  {
   "cell_type": "markdown",
   "metadata": {},
   "source": [
    "> We can see that there is a moderate positive correlation between literacy and unemployment. The same can also be said of gdp and literacy. There seems to also be a weak negative correation between gdp and the number of people living in poverty, an indication that the number of people living in poverty seems to reduce as gdp increases. Let us visualize this using a heatmap and scatter matrix."
   ]
  },
  {
   "cell_type": "code",
   "execution_count": 32,
   "metadata": {},
   "outputs": [
    {
     "data": {
      "image/png": "[encoded data removed]",
      "text/plain": [
       "<Figure size 720x432 with 2 Axes>"
      ]
     },
     "metadata": {
      "needs_background": "light"
     },
     "output_type": "display_data"
    }
   ],
   "source": [
    "fig, ax = plt.subplots(figsize=(10, 6))\n",
    "corr = indicators_2011.corr()\n",
    "\n",
    "sns.heatmap(round(corr,2), annot=True, ax=ax, cmap=\"coolwarm\", linewidths=.05)\n",
    "\n",
    "fig.subplots_adjust(top=0.93)\n",
    "plt.xticks(rotation=90, fontsize=14)\n",
    "plt.yticks(fontsize=14)\n",
    "fig.suptitle('Indicators Correlation Heatmap', fontsize=14);"
   ]
  },
  {
   "cell_type": "code",
   "execution_count": 33,
   "metadata": {},
   "outputs": [
    {
     "data": {
      "image/png": "[encoded data removed]",
      "text/plain": [
       "<Figure size 720x720 with 20 Axes>"
      ]
     },
     "metadata": {
      "needs_background": "light"
     },
     "output_type": "display_data"
    }
   ],
   "source": [
    "sns.pairplot(indicators_2011);"
   ]
  },
  {
   "cell_type": "markdown",
   "metadata": {},
   "source": [
    "The above plots does a good justice to providing a fanstastic graphic summary. We can tentatively say that countries with high literacy rate, fewer number of unemployed citizens, and having a small proportion of its people citizens living below the poverty line have high gdps. This statement is tentative because we do not have a ruburst data and we are yet to use other advanced tools to investigate this data. So, it would me normal to find exceptions to this statement every now and then."
   ]
  },
  {
   "cell_type": "markdown",
   "metadata": {},
   "source": [
    "### Test for the significance of correlation\n",
    "Since correlation does not always imply causation, we will carry out a test of significance to guide out decisons.\n",
    "#### Hypothesis\n",
    "<ul>\n",
    "<li>H0: Inconclusive.</li>\n",
    "<li>H1: There is significant correlation between unemployment, gdp, literacy, and poverty.</li>\n",
    "</ul>\n",
    "\n",
    "level of significance(alpha) = 0.05\n",
    ">decision rule: if p-value is > alpha accept H0, else, accept H1."
   ]
  },
  {
   "cell_type": "code",
   "execution_count": 34,
   "metadata": {},
   "outputs": [
    {
     "data": {
      "text/html": [
       "<div>\n",
       "<style scoped>\n",
       "    .dataframe tbody tr th:only-of-type {\n",
       "        vertical-align: middle;\n",
       "    }\n",
       "\n",
       "    .dataframe tbody tr th {\n",
       "        vertical-align: top;\n",
       "    }\n",
       "\n",
       "    .dataframe thead th {\n",
       "        text-align: right;\n",
       "    }\n",
       "</style>\n",
       "<table border=\"1\" class=\"dataframe\">\n",
       "  <thead>\n",
       "    <tr style=\"text-align: right;\">\n",
       "      <th></th>\n",
       "      <th>unemployment_rate</th>\n",
       "      <th>gdp</th>\n",
       "      <th>literacy_rate</th>\n",
       "      <th>poverty_rate</th>\n",
       "    </tr>\n",
       "  </thead>\n",
       "  <tbody>\n",
       "    <tr>\n",
       "      <th>unemployment_rate</th>\n",
       "      <td>inf</td>\n",
       "      <td>0.998565</td>\n",
       "      <td>2.735436</td>\n",
       "      <td>-0.835455</td>\n",
       "    </tr>\n",
       "    <tr>\n",
       "      <th>gdp</th>\n",
       "      <td>0.998565</td>\n",
       "      <td>inf</td>\n",
       "      <td>3.409824</td>\n",
       "      <td>-1.062422</td>\n",
       "    </tr>\n",
       "    <tr>\n",
       "      <th>literacy_rate</th>\n",
       "      <td>2.735436</td>\n",
       "      <td>3.409824</td>\n",
       "      <td>inf</td>\n",
       "      <td>-0.573496</td>\n",
       "    </tr>\n",
       "    <tr>\n",
       "      <th>poverty_rate</th>\n",
       "      <td>-0.835455</td>\n",
       "      <td>-1.062422</td>\n",
       "      <td>-0.573496</td>\n",
       "      <td>inf</td>\n",
       "    </tr>\n",
       "  </tbody>\n",
       "</table>\n",
       "</div>"
      ],
      "text/plain": [
       "                   unemployment_rate       gdp  literacy_rate  poverty_rate\n",
       "unemployment_rate                inf  0.998565       2.735436     -0.835455\n",
       "gdp                         0.998565       inf       3.409824     -1.062422\n",
       "literacy_rate               2.735436  3.409824            inf     -0.573496\n",
       "poverty_rate               -0.835455 -1.062422      -0.573496           inf"
      ]
     },
     "execution_count": 34,
     "metadata": {},
     "output_type": "execute_result"
    }
   ],
   "source": [
    "# t-test of significance for correlation\n",
    "# number of obervations = n (number of countries)\n",
    "n = 23\n",
    "\n",
    "#formular\n",
    "t = r*np.sqrt((n-2)/(1-r*r))\n",
    "\n",
    "t"
   ]
  },
  {
   "cell_type": "markdown",
   "metadata": {},
   "source": [
    "# Conclusion"
   ]
  },
  {
   "cell_type": "markdown",
   "metadata": {
    "collapsed": true
   },
   "source": [
    "### Result:\n",
    "> Since the p-values for each pair of indicator is greater than the level of significance (0.05), we say that there is inconclusive evidence about the correlation between unemployment, gdp, literacy, and poverty. Further test or an alternative approach is recommended.\n",
    "### Limitations:\n",
    ">1. There is the problem of missing data caused by gaps in the years the selected indicators where estimated.\n",
    ">2. The selected year of interest (2011) held data for a few number of countries (23) and could be dismissed as a good representative of the population."
   ]
  },
  {
   "cell_type": "code",
   "execution_count": 35,
   "metadata": {},
   "outputs": [
    {
     "data": {
      "text/plain": [
       "0"
      ]
     },
     "execution_count": 35,
     "metadata": {},
     "output_type": "execute_result"
    }
   ],
   "source": [
    "from subprocess import call\n",
    "call(['python', '-m', 'nbconvert', 'Investigate_a_Dataset.ipynb'])"
   ]
  },
  {
   "cell_type": "code",
   "execution_count": null,
   "metadata": {},
   "outputs": [],
   "source": []
  }
 ],
 "metadata": {
  "kernelspec": {
   "display_name": "Python 3",
   "language": "python",
   "name": "python3"
  },
  "language_info": {
   "codemirror_mode": {
    "name": "ipython",
    "version": 3
   },
   "file_extension": ".py",
   "mimetype": "text/x-python",
   "name": "python",
   "nbconvert_exporter": "python",
   "pygments_lexer": "ipython3",
   "version": "3.6.7"
  }
 },
 "nbformat": 4,
 "nbformat_minor": 2
}
